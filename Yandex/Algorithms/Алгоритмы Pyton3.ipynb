{
 "cells": [
  {
   "cell_type": "markdown",
   "id": "7f1f7fa9",
   "metadata": {},
   "source": [
    "## BFS, O(n + m)\n",
    "В результате поиска в ширину находится путь кратчайшей длины в невзвешенном графе, т.е. путь, содержащий наименьшее число рёбер."
   ]
  },
  {
   "cell_type": "markdown",
   "id": "d15e4732",
   "metadata": {},
   "source": [
    "G - матрица смежности n $\\times$ n, G[u][v] = 1, если есть ребро между u и v, 0 если нету\n",
    "\n",
    "s - стартовая вершина\n",
    "\n",
    "visited - массив посещенных вершин\n",
    "\n",
    "d[i] - расстояние от s до i-той вершины"
   ]
  },
  {
   "cell_type": "code",
   "execution_count": 9,
   "id": "de525717",
   "metadata": {},
   "outputs": [],
   "source": [
    "#Тест\n",
    "n = 3\n",
    "G = [[0, 1, 0],\n",
    "    [1, 0, 1],\n",
    "    [0, 1, 0]]\n",
    "s = 0"
   ]
  },
  {
   "cell_type": "code",
   "execution_count": 10,
   "id": "12c0ebf7",
   "metadata": {},
   "outputs": [],
   "source": [
    "#Сам алгоритм\n",
    "visited = []\n",
    "queue = [] \n",
    "d = [-1] * n \n",
    "visited.append(s) \n",
    "queue.append(s)\n",
    "d[s] = 0\n",
    "\n",
    "while queue:\n",
    "    m = queue.pop(0)\n",
    "    \n",
    "    for v in range(n):\n",
    "        if (G[m][v] == 1) & (v not in visited):\n",
    "            visited.append(v)\n",
    "            queue.append(v)\n",
    "            d[v] = d[m] + 1"
   ]
  },
  {
   "cell_type": "code",
   "execution_count": 11,
   "id": "e8939592",
   "metadata": {},
   "outputs": [
    {
     "name": "stdout",
     "output_type": "stream",
     "text": [
      "0 1 2\n"
     ]
    }
   ],
   "source": [
    "#Тест\n",
    "print(d[0], d[1], d[2])"
   ]
  },
  {
   "cell_type": "markdown",
   "id": "971c8f99",
   "metadata": {},
   "source": [
    "## Алгоритм Дейкстры, O($n^2$ + m)\n",
    "Дан ориентированный или неориентированный взвешенный граф с n вершинами и m рёбрами. Веса всех рёбер неотрицательны. Указана некоторая стартовая вершина s. Требуется найти длины кратчайших путей из вершины s во все остальные вершины"
   ]
  },
  {
   "cell_type": "markdown",
   "id": "9ac7978e",
   "metadata": {},
   "source": [
    "G - матрица смежности n $\\times$ n, G[u][v] = w((u, v)), если есть ребро между u и v, -1 если нету\n",
    "\n",
    "s - стартовая вершина\n",
    "\n",
    "visited - помеченные вершины\n",
    "\n",
    "d[i] - расстояние от s до i\n",
    "\n",
    "p - массив родителей"
   ]
  },
  {
   "cell_type": "code",
   "execution_count": 12,
   "id": "acf11b39",
   "metadata": {},
   "outputs": [],
   "source": [
    "#Тест\n",
    "n = 3\n",
    "G = [[-1, 1, -1],\n",
    "    [1, -1, 2],\n",
    "    [-1, 2, -1]]\n",
    "s = 0"
   ]
  },
  {
   "cell_type": "code",
   "execution_count": 15,
   "id": "a64ea59e",
   "metadata": {},
   "outputs": [],
   "source": [
    "#Сам алгоритм\n",
    "INF = 10**9\n",
    "\n",
    "d = [INF] * n\n",
    "visited = []\n",
    "d[s] = 0\n",
    "p = [-1] * n\n",
    "\n",
    "for i in range(n):\n",
    "    v = -1\n",
    "    for j in range(n):\n",
    "            if (j not in visited) & ((v == -1) | (d[j] < d[v])):\n",
    "                v = j\n",
    "    if d[v] == INF: break\n",
    "    print(v)\n",
    "    visited.append(v)\n",
    "    for to in range(n):\n",
    "        if G[v][to] != -1: \n",
    "            len = G[v][to]\n",
    "            if d[v] + len < d[to]:\n",
    "                d[to] = d[v] + len\n",
    "                p[to] = v"
   ]
  },
  {
   "cell_type": "code",
   "execution_count": 16,
   "id": "d035f304",
   "metadata": {},
   "outputs": [
    {
     "name": "stdout",
     "output_type": "stream",
     "text": [
      "0 1 3\n"
     ]
    }
   ],
   "source": [
    "#Тест\n",
    "print(d[0], d[1], d[2])"
   ]
  },
  {
   "cell_type": "markdown",
   "id": "687d9ff1",
   "metadata": {},
   "source": [
    "## Алгортм Форда-Белмана, O(n^3)\n",
    "Пусть дан ориентированный взвешенный граф G с n вершинами и m рёбрами, и указана некоторая вершина v. Требуется найти длины кратчайших путей от вершины v до всех остальных вершин.\n",
    "\n",
    "В отличие от алгоритма Дейкстры, этот алгоритм применим также и к графам, содержащим рёбра отрицательного веса."
   ]
  },
  {
   "cell_type": "markdown",
   "id": "daecd131",
   "metadata": {},
   "source": [
    "Предполагается, что если между двумя какими-то вершинами нет ребра, то в матрице смежности было записано какое-то большое число (достаточно большое, чтобы оно было больше длины любого пути в этом графе); тогда это ребро всегда будет невыгодно брать, и алгоритм сработает правильно."
   ]
  },
  {
   "cell_type": "code",
   "execution_count": 74,
   "id": "65cd4610",
   "metadata": {},
   "outputs": [],
   "source": [
    "#Тест\n",
    "INF = 10**9\n",
    "n = 3\n",
    "G = [[0, 1, INF],\n",
    "    [1, 0, -2],\n",
    "    [INF, INF, 0]]\n",
    "s = 0"
   ]
  },
  {
   "cell_type": "code",
   "execution_count": 77,
   "id": "1a99d9ea",
   "metadata": {},
   "outputs": [],
   "source": [
    "#Сам алгоритм\n",
    "INF = 10 ** 9 \n",
    "d = [INF] * n\n",
    "d[s] = 0 \n",
    "for k in range(1, n):\n",
    "    for i in range(n):\n",
    "        for j in range(n):\n",
    "            if d[j] + G[j][i] < d[i]:\n",
    "                d[i] = d[j] + G[j][i]"
   ]
  },
  {
   "cell_type": "code",
   "execution_count": 78,
   "id": "64d5ee6f",
   "metadata": {},
   "outputs": [
    {
     "name": "stdout",
     "output_type": "stream",
     "text": [
      "[0, 1, -1]\n"
     ]
    }
   ],
   "source": [
    "#Тест\n",
    "print(d)"
   ]
  },
  {
   "cell_type": "markdown",
   "id": "7e814f8e",
   "metadata": {},
   "source": [
    "## Алгоритм Флойда-Уоршелла, O($n^3$)\n",
    "Дан ориентированный или неориентированный взвешенный граф G с n вершинами. Требуется найти значения всех величин $d_{i,j}$ — длины кратчайшего пути из вершины i в вершину j."
   ]
  },
  {
   "cell_type": "markdown",
   "id": "d713f097",
   "metadata": {},
   "source": [
    "Предполагается, что если между двумя какими-то вершинами нет ребра, то в матрице смежности было записано какое-то большое число (достаточно большое, чтобы оно было больше длины любого пути в этом графе); тогда это ребро всегда будет невыгодно брать, и алгоритм сработает правильно."
   ]
  },
  {
   "cell_type": "code",
   "execution_count": 79,
   "id": "b4fcb18f",
   "metadata": {},
   "outputs": [],
   "source": [
    "#Тест\n",
    "INF = 10**9\n",
    "n = 3\n",
    "G = [[0, 1, INF],\n",
    "    [1, 0, -1],\n",
    "    [INF, INF, 0]]"
   ]
  },
  {
   "cell_type": "code",
   "execution_count": 80,
   "id": "97859004",
   "metadata": {},
   "outputs": [],
   "source": [
    "#Сам алгоритм\n",
    "d = G\n",
    "for k in range(n):\n",
    "    for i in range(n):\n",
    "        for j in range(n):\n",
    "            if (d[i][k] < INF) & (d[k][j] < INF):\n",
    "                d[i][j] = min(d[i][j], d[i][k] + d[k][j])"
   ]
  },
  {
   "cell_type": "code",
   "execution_count": 81,
   "id": "8b5a63c1",
   "metadata": {},
   "outputs": [
    {
     "name": "stdout",
     "output_type": "stream",
     "text": [
      "[0, 1, 0]\n",
      "[1, 0, -1]\n",
      "[1000000000, 1000000000, 0]\n"
     ]
    }
   ],
   "source": [
    "#Тест\n",
    "for row in d:\n",
    "    print(row)"
   ]
  },
  {
   "cell_type": "markdown",
   "id": "774fde6a",
   "metadata": {},
   "source": [
    "## Алгоритм Крускала, O(m log(n) + $n^2$)\n",
    "Дан взвешенный неориентированный граф. Требуется найти такое поддерево этого графа, которое бы соединяло все его вершины, и при этом обладало наименьшим весом (т.е. суммой весов рёбер) из всех возможных."
   ]
  },
  {
   "cell_type": "code",
   "execution_count": 50,
   "id": "47070c32",
   "metadata": {},
   "outputs": [],
   "source": [
    "# список ребер графа (длина, вершина 1, вершина 2)\n",
    "R = [(13, 1, 2), (18, 1, 3), (17, 1, 4), (14, 1, 5), (22, 1, 6),\n",
    "     (26, 2, 3), (22, 2, 5), (3, 3, 4), (19, 4, 6)]"
   ]
  },
  {
   "cell_type": "code",
   "execution_count": 51,
   "id": "82fa0a3c",
   "metadata": {},
   "outputs": [
    {
     "name": "stdout",
     "output_type": "stream",
     "text": [
      "[(3, 3, 4), (13, 1, 2), (14, 1, 5), (19, 4, 6), (17, 1, 4)]\n"
     ]
    }
   ],
   "source": [
    "#Сам алгоритм\n",
    "Rs = sorted(R, key=lambda x: x[0])\n",
    "U = set()   # список соединенных вершин\n",
    "D = {}      # словарь списка изолированных групп вершин\n",
    "T = []      # список ребер остова\n",
    "\n",
    "for r in Rs:\n",
    "    if r[1] not in U or r[2] not in U:  # проверка для исключения циклов в остове\n",
    "        if r[1] not in U and r[2] not in U: # если обе вершины не соединены, то\n",
    "            D[r[1]] = [r[1], r[2]]          # формируем в словаре ключ с номерами вершин\n",
    "            D[r[2]] = D[r[1]]               # и связываем их с одним и тем же списком вершин\n",
    "        else:                           # иначе\n",
    "            if not D.get(r[1]):             # если в словаре нет первой вершины, то\n",
    "                D[r[2]].append(r[1])        # добавляем в список первую вершину\n",
    "                D[r[1]] = D[r[2]]           # и добавляем ключ с номером первой вершины\n",
    "            else:\n",
    "                D[r[1]].append(r[2])        # иначе, все то же самое делаем со второй вершиной\n",
    "                D[r[2]] = D[r[1]]\n",
    "\n",
    "        T.append(r)             # добавляем ребро в остов\n",
    "        U.add(r[1])             # добавляем вершины в множество U\n",
    "        U.add(r[2])\n",
    "\n",
    "for r in Rs:    # проходим по ребрам второй раз и объединяем разрозненные группы вершин\n",
    "    if r[2] not in D[r[1]]:     # если вершины принадлежат разным группам, то объединяем\n",
    "        T.append(r)             # добавляем ребро в остов\n",
    "        gr1 = D[r[1]]\n",
    "        D[r[1]] += D[r[2]]      # объединем списки двух групп вершин\n",
    "        D[r[2]] += gr1\n",
    "\n",
    "print(T)"
   ]
  },
  {
   "cell_type": "markdown",
   "id": "cfefeb39",
   "metadata": {},
   "source": [
    "## Алгоритм Евклида, O(log(min(a, b)))\n",
    "Нахождение НОД(a, b)"
   ]
  },
  {
   "cell_type": "code",
   "execution_count": 87,
   "id": "55e8cc76",
   "metadata": {},
   "outputs": [],
   "source": [
    "def gcd(a, b):\n",
    "    if b == 0:\n",
    "        return a\n",
    "    else:\n",
    "        return gcd(b, a % b)"
   ]
  },
  {
   "cell_type": "code",
   "execution_count": 88,
   "id": "95ae765b",
   "metadata": {},
   "outputs": [
    {
     "data": {
      "text/plain": [
       "3"
      ]
     },
     "execution_count": 88,
     "metadata": {},
     "output_type": "execute_result"
    }
   ],
   "source": [
    "#Тест\n",
    "gcd(3, 12)"
   ]
  },
  {
   "cell_type": "markdown",
   "id": "1ff3e45c",
   "metadata": {},
   "source": [
    "## Бинарный поиск, O(log(len(array)))\n",
    "Поиск числа element в отсортированном массиве array"
   ]
  },
  {
   "cell_type": "code",
   "execution_count": 83,
   "id": "900c92ef",
   "metadata": {},
   "outputs": [],
   "source": [
    "def binary_search_recursive(array, element, start, end):\n",
    "    if start > end:\n",
    "        return -1\n",
    "\n",
    "    mid = (start + end) // 2\n",
    "    if element == array[mid]:\n",
    "        return mid\n",
    "\n",
    "    if element < array[mid]:\n",
    "        return binary_search_recursive(array, element, start, mid-1)\n",
    "    else:\n",
    "        return binary_search_recursive(array, element, mid+1, end)"
   ]
  },
  {
   "cell_type": "code",
   "execution_count": 85,
   "id": "e9fe3121",
   "metadata": {},
   "outputs": [
    {
     "data": {
      "text/plain": [
       "2"
      ]
     },
     "execution_count": 85,
     "metadata": {},
     "output_type": "execute_result"
    }
   ],
   "source": [
    "#Тест\n",
    "binary_search_recursive([1, 3, 5, 6, 6, 6, 7, 9], 5, 0, 7)"
   ]
  },
  {
   "cell_type": "markdown",
   "id": "7bc4e150",
   "metadata": {},
   "source": [
    "## Нахождение Z-функции, O(n)\n",
    "Пусть дана строка s длины n. Тогда Z-функция (\"зет-функция\") от этой строки — это массив длины n, i-ый элемент которого равен наибольшему числу символов, начиная с позиции i, совпадающих с первыми символами строки s."
   ]
  },
  {
   "cell_type": "code",
   "execution_count": 59,
   "id": "9f4ca438",
   "metadata": {},
   "outputs": [],
   "source": [
    "def z_function(s):\n",
    "    n = len(s)\n",
    "    z = [0] * n\n",
    "    l = 0\n",
    "    r = 0\n",
    "    for i in range(1, n):\n",
    "        if (i <= r):\n",
    "            z[i] = min(r - i + 1, z[i-l])\n",
    "        while (i + z[i] < n) and (s[z[i]] == s[i+z[i]]):\n",
    "            z[i] += 1\n",
    "        if i+z[i]-1 > r:\n",
    "            l = i\n",
    "            r = i+z[i]-1\n",
    "    return z"
   ]
  },
  {
   "cell_type": "code",
   "execution_count": 60,
   "id": "f66ba9dd",
   "metadata": {
    "scrolled": true
   },
   "outputs": [
    {
     "data": {
      "text/plain": [
       "[0, 0, 1, 0, 3, 0, 1]"
      ]
     },
     "execution_count": 60,
     "metadata": {},
     "output_type": "execute_result"
    }
   ],
   "source": [
    "#Тест\n",
    "z_function_1('abacaba')"
   ]
  },
  {
   "cell_type": "markdown",
   "id": "19c106dc",
   "metadata": {},
   "source": [
    "## Кнут-Моррис-Пратт (префикс-функция), O(n)\n",
    "Дана строка s длины n. Требуется вычислить для неё префикс-функцию, т.е. массив чисел $\\pi$, где $\\pi$[i] определяется следующим образом: это такая наибольшая длина наибольшего собственного суффикса подстроки s[0 ... i], совпадающего с её префиксом"
   ]
  },
  {
   "cell_type": "code",
   "execution_count": 64,
   "id": "3b74dd78",
   "metadata": {},
   "outputs": [],
   "source": [
    "def prefix_function(s):\n",
    "    n = len(s)\n",
    "    pi = [0] * n\n",
    "    for i in range(1, n):\n",
    "        j = pi[i-1]\n",
    "        while (j > 0) and (s[i] != s[j]):\n",
    "            j = pi[j-1]\n",
    "        if s[i] == s[j]: j+= 1\n",
    "        pi[i] = j\n",
    "    return pi"
   ]
  },
  {
   "cell_type": "code",
   "execution_count": 65,
   "id": "ab57cf28",
   "metadata": {},
   "outputs": [
    {
     "data": {
      "text/plain": [
       "[0, 1, 0, 0, 1, 2]"
      ]
     },
     "execution_count": 65,
     "metadata": {},
     "output_type": "execute_result"
    }
   ],
   "source": [
    "#Тест\n",
    "prefix_function('aabbaa')"
   ]
  }
 ],
 "metadata": {
  "kernelspec": {
   "display_name": "Python 3",
   "language": "python",
   "name": "python3"
  },
  "language_info": {
   "codemirror_mode": {
    "name": "ipython",
    "version": 3
   },
   "file_extension": ".py",
   "mimetype": "text/x-python",
   "name": "python",
   "nbconvert_exporter": "python",
   "pygments_lexer": "ipython3",
   "version": "3.8.10"
  }
 },
 "nbformat": 4,
 "nbformat_minor": 5
}
